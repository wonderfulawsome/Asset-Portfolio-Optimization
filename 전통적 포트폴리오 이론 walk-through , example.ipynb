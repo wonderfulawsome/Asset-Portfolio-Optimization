{
 "cells": [
  {
   "cell_type": "code",
   "execution_count": 2,
   "id": "daeeac88",
   "metadata": {},
   "outputs": [
    {
     "data": {
      "text/plain": [
       "(         Date  Price\n",
       " 0  2000-01-04  23.95\n",
       " 1  2000-01-05  23.72\n",
       " 2  2000-01-06  23.55\n",
       " 3  2000-01-07  23.35\n",
       " 4  2000-01-10  22.77,\n",
       "          Date   Open   High    Low  Close  Volume Currency\n",
       " 0  2000-01-04  289.5  289.5  280.0  283.7   21621      USD\n",
       " 1  2000-01-05  283.7  285.0  281.0  282.1   25448      USD\n",
       " 2  2000-01-06  281.6  282.8  280.2  282.4   19055      USD\n",
       " 3  2000-01-07  282.5  284.5  282.0  282.9   11266      USD\n",
       " 4  2000-01-10  282.4  283.9  281.8  282.7   30603      USD,\n",
       "          Date       Open       High        Low      Close  Adj Close    Volume\n",
       " 0  2004-01-02  36.660000  36.790001  36.220001  36.360001  31.140272  55234100\n",
       " 1  2004-01-05  36.580002  37.160000  36.560001  37.090000  31.765478  69717900\n",
       " 2  2004-01-06  37.080002  37.419998  36.950001  37.340000  31.979589  60033000\n",
       " 3  2004-01-07  37.279999  37.680000  37.070000  37.680000  32.270798  71830000\n",
       " 4  2004-01-08  37.849998  38.000000  37.599998  37.980000  32.527729  76800900)"
      ]
     },
     "execution_count": 2,
     "metadata": {},
     "output_type": "execute_result"
    }
   ],
   "source": [
    "import pandas as pd\n",
    "\n",
    "#데이터 불러오기\n",
    "brent_oil_prices=pd.read_csv('C:/Users/82106/Desktop/경영캡스톤/data2/preprocessed_BrentOilPrices.csv')\n",
    "gold_prices=pd.read_csv('C:/Users/82106/Desktop/경영캡스톤/data2/preprocessed_gold.csv')\n",
    "nasdaq_prices=pd.read_csv('C:/Users/82106/Desktop/경영캡스톤/data2/preprocessed_nasdaq.csv')\n",
    "\n",
    "#첫 몇개 줄 출력\n",
    "brent_oil_prices_head=brent_oil_prices.head()\n",
    "gold_prices_head=gold_prices.head()\n",
    "nasdaq_prices_head=nasdaq_prices.head()\n",
    "\n",
    "(brent_oil_prices_head,gold_prices_head,nasdaq_prices_head)"
   ]
  },
  {
   "cell_type": "code",
   "execution_count": 4,
   "id": "ecc2b85b",
   "metadata": {},
   "outputs": [
    {
     "data": {
      "text/plain": [
       "(BrentOil    0.043992\n",
       " Gold        0.083845\n",
       " Nasdaq      0.117319\n",
       " dtype: float64,\n",
       " BrentOil    0.354582\n",
       " Gold        0.175150\n",
       " Nasdaq      0.215993\n",
       " dtype: float64,\n",
       "           BrentOil      Gold    Nasdaq\n",
       " BrentOil  1.000000 -0.015060  0.003596\n",
       " Gold     -0.015060  1.000000 -0.003093\n",
       " Nasdaq    0.003596 -0.003093  1.000000)"
      ]
     },
     "execution_count": 4,
     "metadata": {},
     "output_type": "execute_result"
    }
   ],
   "source": [
    "import numpy as np\n",
    "\n",
    "#3가지 자산의 일일 수익률 계산\n",
    "\n",
    "brent_oil_returns=brent_oil_prices['Price'].pct_change().apply(lambda x:np.log(1+x))\n",
    "gold_returns=gold_prices['Close'].pct_change().apply(lambda x:np.log(1+x))\n",
    "nasdaq_returns=nasdaq_prices['Close'].pct_change().apply(lambda x:np.log(1+x))\n",
    "\n",
    "#수익률 조합 하기\n",
    "combined_returns=pd.DataFrame({\n",
    "    'BrentOil':brent_oil_returns,\n",
    "    'Gold':gold_returns,\n",
    "    'Nasdaq': nasdaq_returns\n",
    "})\n",
    "\n",
    "#결측치는 drop 하기\n",
    "combined_returns=combined_returns.dropna()\n",
    "\n",
    "#기대수익률(평균), 변동성(표준편차), 상관관계 행렬 계산\n",
    "expected_returns=combined_returns.mean()*252 # 평균 수익률을 연간화\n",
    "volatility=combined_returns.std()*np.sqrt(252)\n",
    "correlation_matrix=combined_returns.corr()\n",
    "\n",
    "(expected_returns,volatility, correlation_matrix)"
   ]
  },
  {
   "cell_type": "code",
   "execution_count": 7,
   "id": "8721c0de",
   "metadata": {},
   "outputs": [
    {
     "data": {
      "text/plain": [
       "(array([0.22116197, 0.57905392, 0.19978411]), 0.1343717619757004)"
      ]
     },
     "execution_count": 7,
     "metadata": {},
     "output_type": "execute_result"
    }
   ],
   "source": [
    "from scipy.optimize import minimize\n",
    "\n",
    "# 최적화 문제 정의\n",
    "def portfolio_volatility(weights, mean_returns, cov_matrix):\n",
    "    return np.sqrt(np.dot(weights.T, np.dot(cov_matrix, weights)))\n",
    "\n",
    "def minimize_volatility(mean_returns, cov_matrix, return_target):\n",
    "    num_assets = len(mean_returns)\n",
    "    args = (mean_returns, cov_matrix)\n",
    "    constraints = ({'type': 'eq', 'fun': lambda x: np.sum(x) - 1},  # The sum of weights is 1\n",
    "                   {'type': 'eq', 'fun': lambda x: np.dot(x, mean_returns) - return_target})  # Target return\n",
    "    bounds = tuple((0, 1) for asset in range(num_assets))\n",
    "    result = minimize(portfolio_volatility, num_assets*[1./num_assets,], args=args,\n",
    "                      method='SLSQP', bounds=bounds, constraints=constraints)\n",
    "    return result\n",
    "\n",
    "# 공분산 행렬 계산\n",
    "cov_matrix = combined_returns.cov() * 252  # Annualize the covariance matrix\n",
    "\n",
    "# 목표수익률을 자산의 기대수익률 평균으로 설정\n",
    "target_return = expected_returns.mean()\n",
    "\n",
    "# 최적화 수행(변동성 최소화)\n",
    "min_vol_result = minimize_volatility(expected_returns, cov_matrix, target_return)\n",
    "\n",
    "# 최적의 가중치 획득\n",
    "optimal_weights = min_vol_result.x\n",
    "\n",
    "optimal_weights, min_vol_result.fun\n"
   ]
  },
  {
   "cell_type": "code",
   "execution_count": 8,
   "id": "d3e391a6",
   "metadata": {},
   "outputs": [],
   "source": [
    "# 효율적인 투자선을 찾을 수 있는 기능\n",
    "def efficient_frontier(mean_returns, cov_matrix, return_range):\n",
    "    efficient_portfolios = []\n",
    "    for target in return_range:\n",
    "        efficient_portfolios.append(minimize_volatility(mean_returns, cov_matrix, target))\n",
    "    return efficient_portfolios"
   ]
  },
  {
   "cell_type": "code",
   "execution_count": 9,
   "id": "7cd8754b",
   "metadata": {},
   "outputs": [],
   "source": [
    "# 최소 예상 수익률과 최대 기대 수익률 사이의 목표 수익률 범위 생성\n",
    "return_range=np.linspace(expected_returns.min(),expected_returns.max(),50)"
   ]
  },
  {
   "cell_type": "code",
   "execution_count": 13,
   "id": "e9af739a",
   "metadata": {},
   "outputs": [],
   "source": [
    "#효율적 투자선 계산\n",
    "efficient_portfolios=efficient_frontier(expected_returns,cov_matrix,return_range)"
   ]
  },
  {
   "cell_type": "code",
   "execution_count": 14,
   "id": "5ffc54cf",
   "metadata": {},
   "outputs": [
    {
     "data": {
      "text/plain": [
       "([0.354581913208871,\n",
       "  0.3412318671429472,\n",
       "  0.3280188551651325,\n",
       "  0.3149601240551097,\n",
       "  0.30207568316029615,\n",
       "  0.2893888131557485,\n",
       "  0.27692666937947585,\n",
       "  0.2647209917224359,\n",
       "  0.2528089296571504,\n",
       "  0.24123398305641283,\n",
       "  0.23004704401298653,\n",
       "  0.21930750062037074,\n",
       "  0.20908429857856356,\n",
       "  0.19945685299264393,\n",
       "  0.19051550239741488,\n",
       "  0.18236119548814433,\n",
       "  0.175103919320951,\n",
       "  0.16885937286042763,\n",
       "  0.16355362991438474,\n",
       "  0.15855137339118705,\n",
       "  0.1538111643350656,\n",
       "  0.14935795557875814,\n",
       "  0.1452181535291505,\n",
       "  0.14141928210149632,\n",
       "  0.13798950876175214,\n",
       "  0.13495693338481715,\n",
       "  0.13234901784240785,\n",
       "  0.13019092226432685,\n",
       "  0.12850566380496084,\n",
       "  0.1273119023610216,\n",
       "  0.1266235395230311,\n",
       "  0.12644882950329167,\n",
       "  0.12678989574861227,\n",
       "  0.1276430971397035,\n",
       "  0.12899703274254765,\n",
       "  0.1308370253214522,\n",
       "  0.13314287348267928,\n",
       "  0.1358908292932366,\n",
       "  0.13905466464242552,\n",
       "  0.1426090726067208,\n",
       "  0.14688001588213717,\n",
       "  0.15205319238299614,\n",
       "  0.15804002656270033,\n",
       "  0.16475184099661097,\n",
       "  0.17210383685833722,\n",
       "  0.18001759537529852,\n",
       "  0.18842234756472825,\n",
       "  0.19725534191158625,\n",
       "  0.20646162160863063,\n",
       "  0.21599346035384698],\n",
       " array([0.04399176, 0.04548823, 0.04698469, 0.04848116, 0.04997762,\n",
       "        0.05147409, 0.05297055, 0.05446702, 0.05596348, 0.05745995,\n",
       "        0.05895641, 0.06045288, 0.06194934, 0.06344581, 0.06494227,\n",
       "        0.06643874, 0.0679352 , 0.06943167, 0.07092813, 0.0724246 ,\n",
       "        0.07392106, 0.07541753, 0.07691399, 0.07841046, 0.07990692,\n",
       "        0.08140339, 0.08289985, 0.08439632, 0.08589278, 0.08738924,\n",
       "        0.08888571, 0.09038217, 0.09187864, 0.0933751 , 0.09487157,\n",
       "        0.09636803, 0.0978645 , 0.09936096, 0.10085743, 0.10235389,\n",
       "        0.10385036, 0.10534682, 0.10684329, 0.10833975, 0.10983622,\n",
       "        0.11133268, 0.11282915, 0.11432561, 0.11582208, 0.11731854]))"
      ]
     },
     "execution_count": 14,
     "metadata": {},
     "output_type": "execute_result"
    }
   ],
   "source": [
    "# 효율적인 포트폴리오의 변동성 및 수익률 추출\n",
    "frontier_volatility=[portfolio['fun']for portfolio in efficient_portfolios]\n",
    "frontier_returns=return_range\n",
    "\n",
    "(frontier_volatility, frontier_returns)"
   ]
  },
  {
   "cell_type": "code",
   "execution_count": 15,
   "id": "23758cab",
   "metadata": {},
   "outputs": [
    {
     "data": {
      "image/png": "[encoded data removed]",
      "text/plain": [
       "<Figure size 720x504 with 1 Axes>"
      ]
     },
     "metadata": {
      "needs_background": "light"
     },
     "output_type": "display_data"
    }
   ],
   "source": [
    "import matplotlib.pyplot as plt\n",
    "\n",
    "#효율적 투자선 시각화\n",
    "plt.figure(figsize=(10, 7))\n",
    "plt.title('Efficient Frontier')\n",
    "plt.xlabel('Volatility (Standard Deviation)')\n",
    "plt.ylabel('Expected Return')\n",
    "plt.plot(frontier_volatility, frontier_returns, 'g--', linewidth=3)\n",
    "plt.scatter(volatility, expected_returns, marker='o', s=100)\n",
    "\n",
    "# 그림의 각 자산에 대한 점 주석 달기\n",
    "for i, txt in enumerate(expected_returns.index):\n",
    "    plt.annotate(txt, (volatility[i], expected_returns[i]), xytext=(10, 0), textcoords='offset points')\n",
    "\n",
    "plt.show()"
   ]
  },
  {
   "cell_type": "code",
   "execution_count": 16,
   "id": "0acd556a",
   "metadata": {},
   "outputs": [
    {
     "data": {
      "text/plain": [
       "((array([1.11022302e-16, 1.92301429e-08, 9.99999981e-01]),\n",
       "  0.21599346035384698,\n",
       "  True),\n",
       " (array([0.12772751, 0.52490606, 0.34736644]), 0.12644882950329167, True))"
      ]
     },
     "execution_count": 16,
     "metadata": {},
     "output_type": "execute_result"
    }
   ],
   "source": [
    "# 최대 기대 수익률을 가진 포트폴리오와 변동성을 최소화한 포트폴리오 찾기\n",
    "\n",
    "#최대 수익률\n",
    "max_return_portfolio=efficient_portfolios[np.argmax(frontier_returns)]\n",
    "\n",
    "#최소 변동성\n",
    "min_volatility_portfolio=efficient_portfolios[np.argmin(frontier_volatility)]\n",
    "\n",
    "(max_return_portfolio.x, max_return_portfolio.fun, max_return_portfolio.success), \\\n",
    "(min_volatility_portfolio.x, min_volatility_portfolio.fun, min_volatility_portfolio.success)\n"
   ]
  },
  {
   "cell_type": "code",
   "execution_count": null,
   "id": "53352b35",
   "metadata": {},
   "outputs": [],
   "source": []
  }
 ],
 "metadata": {
  "kernelspec": {
   "display_name": "Python 3 (ipykernel)",
   "language": "python",
   "name": "python3"
  },
  "language_info": {
   "codemirror_mode": {
    "name": "ipython",
    "version": 3
   },
   "file_extension": ".py",
   "mimetype": "text/x-python",
   "name": "python",
   "nbconvert_exporter": "python",
   "pygments_lexer": "ipython3",
   "version": "3.9.12"
  }
 },
 "nbformat": 4,
 "nbformat_minor": 5
}
