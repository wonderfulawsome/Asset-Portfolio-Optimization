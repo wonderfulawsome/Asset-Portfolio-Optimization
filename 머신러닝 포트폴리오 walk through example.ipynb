{
 "cells": [
  {
   "cell_type": "code",
   "execution_count": 1,
   "id": "79600861",
   "metadata": {},
   "outputs": [],
   "source": [
    "import pandas as pd\n",
    "\n",
    "# 파일 경로\n",
    "oil_path = 'C:/Users/82106/Desktop/경영캡스톤/data2/preprocessed_BrentOilPrices.csv'\n",
    "gold_path = 'C:/Users/82106/Desktop/경영캡스톤/data2/preprocessed_gold.csv'\n",
    "nasdaq_path = 'C:/Users/82106/Desktop/경영캡스톤/data2/preprocessed_nasdaq.csv'\n"
   ]
  },
  {
   "cell_type": "code",
   "execution_count": 2,
   "id": "1980ed6a",
   "metadata": {},
   "outputs": [
    {
     "data": {
      "text/plain": [
       "(         Date  Price\n",
       " 0  2000-01-04  23.95\n",
       " 1  2000-01-05  23.72\n",
       " 2  2000-01-06  23.55\n",
       " 3  2000-01-07  23.35\n",
       " 4  2000-01-10  22.77,\n",
       "          Date   Open   High    Low  Close  Volume Currency\n",
       " 0  2000-01-04  289.5  289.5  280.0  283.7   21621      USD\n",
       " 1  2000-01-05  283.7  285.0  281.0  282.1   25448      USD\n",
       " 2  2000-01-06  281.6  282.8  280.2  282.4   19055      USD\n",
       " 3  2000-01-07  282.5  284.5  282.0  282.9   11266      USD\n",
       " 4  2000-01-10  282.4  283.9  281.8  282.7   30603      USD,\n",
       "          Date       Open       High        Low      Close  Adj Close    Volume\n",
       " 0  2004-01-02  36.660000  36.790001  36.220001  36.360001  31.140272  55234100\n",
       " 1  2004-01-05  36.580002  37.160000  36.560001  37.090000  31.765478  69717900\n",
       " 2  2004-01-06  37.080002  37.419998  36.950001  37.340000  31.979589  60033000\n",
       " 3  2004-01-07  37.279999  37.680000  37.070000  37.680000  32.270798  71830000\n",
       " 4  2004-01-08  37.849998  38.000000  37.599998  37.980000  32.527729  76800900)"
      ]
     },
     "execution_count": 2,
     "metadata": {},
     "output_type": "execute_result"
    }
   ],
   "source": [
    "# 데이터 로드\n",
    "oil_data = pd.read_csv(oil_path)\n",
    "gold_data = pd.read_csv(gold_path)\n",
    "nasdaq_data = pd.read_csv(nasdaq_path)\n",
    "\n",
    "# 각 데이터의 상위 5개 행 확인\n",
    "oil_head = oil_data.head()\n",
    "gold_head = gold_data.head()\n",
    "nasdaq_head = nasdaq_data.head()\n",
    "\n",
    "oil_head, gold_head, nasdaq_head\n"
   ]
  },
  {
   "cell_type": "markdown",
   "id": "cf452512",
   "metadata": {},
   "source": [
    "### 데이터 전처리"
   ]
  },
  {
   "cell_type": "code",
   "execution_count": 3,
   "id": "e2e40829",
   "metadata": {},
   "outputs": [],
   "source": [
    "import pandas as pd\n",
    "from statsmodels.tsa.stattools import adfuller\n",
    "\n",
    "#날짜 열 datetime 형식으로 변환하고 인덱스로 설정\n",
    "oil_data['Date']=pd.to_datetime(oil_data['Date'])\n",
    "oil_data.set_index('Date',inplace=True)"
   ]
  },
  {
   "cell_type": "code",
   "execution_count": 4,
   "id": "bd0745c2",
   "metadata": {},
   "outputs": [
    {
     "data": {
      "text/plain": [
       "(-2.388588639806595,\n",
       " 0.14498311772957867,\n",
       " 29,\n",
       " 5781,\n",
       " {'1%': -3.431481673763484,\n",
       "  '5%': -2.8620400923019074,\n",
       "  '10%': -2.5670361971807805},\n",
       " 20865.104413166937)"
      ]
     },
     "execution_count": 4,
     "metadata": {},
     "output_type": "execute_result"
    }
   ],
   "source": [
    "#오일 데이터 adf 테스트 수행\n",
    "\n",
    "adf_test_oil=adfuller(oil_data['Price'])\n",
    "\n",
    "adf_test_oil"
   ]
  },
  {
   "cell_type": "code",
   "execution_count": 5,
   "id": "1722ec96",
   "metadata": {},
   "outputs": [
    {
     "data": {
      "text/plain": [
       "(-0.9537653625464473,\n",
       " 0.769751816277414,\n",
       " 11,\n",
       " 5691,\n",
       " {'1%': -3.4314995786368088,\n",
       "  '5%': -2.86204800302548,\n",
       "  '10%': -2.567040408291401},\n",
       " 44958.35262136224)"
      ]
     },
     "execution_count": 5,
     "metadata": {},
     "output_type": "execute_result"
    }
   ],
   "source": [
    "#Gold Prices 데이터 날짜형 준비\n",
    "gold_data['Date'] = pd.to_datetime(gold_data['Date'])\n",
    "gold_data.set_index('Date', inplace=True)\n",
    "\n",
    "#adf 테스트\n",
    "adf_test_gold=adfuller(gold_data['Close'])\n",
    "\n",
    "adf_test_gold"
   ]
  },
  {
   "cell_type": "code",
   "execution_count": 6,
   "id": "ce2aa00a",
   "metadata": {},
   "outputs": [],
   "source": [
    "#나스닥 데이터 날짜형 준비\n",
    "nasdaq_data['Date']=pd.to_datetime(nasdaq_data['Date'])\n",
    "nasdaq_data.set_index('Date',inplace=True)"
   ]
  },
  {
   "cell_type": "code",
   "execution_count": 7,
   "id": "182be92e",
   "metadata": {},
   "outputs": [
    {
     "data": {
      "text/plain": [
       "(1.3176135041580894,\n",
       " 0.9967057570565306,\n",
       " 26,\n",
       " 4954,\n",
       " {'1%': -3.431670688657576,\n",
       "  '5%': -2.862123600382394,\n",
       "  '10%': -2.567080651396155},\n",
       " 22304.389443408003)"
      ]
     },
     "execution_count": 7,
     "metadata": {},
     "output_type": "execute_result"
    }
   ],
   "source": [
    "#나스닥 adf 테스트\n",
    "adf_test_nasdaq=adfuller(nasdaq_data['Close'])\n",
    "adf_test_nasdaq"
   ]
  },
  {
   "cell_type": "code",
   "execution_count": 8,
   "id": "c02fa0cd",
   "metadata": {},
   "outputs": [],
   "source": [
    "##정상성 만들기\n",
    "# 각 데이터 차분 수행\n",
    "\n",
    "oil_diff=oil_data['Price'].diff().dropna()\n",
    "gold_diff=gold_data['Close'].diff().dropna()\n",
    "nasdaq_diff=nasdaq_data['Close'].diff().dropna()"
   ]
  },
  {
   "cell_type": "code",
   "execution_count": 9,
   "id": "d1b4a70f",
   "metadata": {},
   "outputs": [
    {
     "data": {
      "text/plain": [
       "((-12.401528931241709,\n",
       "  4.5493891144339745e-23,\n",
       "  28,\n",
       "  5781,\n",
       "  {'1%': -3.431481673763484,\n",
       "   '5%': -2.8620400923019074,\n",
       "   '10%': -2.5670361971807805},\n",
       "  20866.279484153365),\n",
       " (-23.641132785478053,\n",
       "  0.0,\n",
       "  10,\n",
       "  5691,\n",
       "  {'1%': -3.4314995786368088,\n",
       "   '5%': -2.86204800302548,\n",
       "   '10%': -2.567040408291401},\n",
       "  44950.050729345705),\n",
       " (-15.599140571861145,\n",
       "  1.8386511945321832e-28,\n",
       "  25,\n",
       "  4954,\n",
       "  {'1%': -3.431670688657576,\n",
       "   '5%': -2.862123600382394,\n",
       "   '10%': -2.567080651396155},\n",
       "  22300.618310542264))"
      ]
     },
     "execution_count": 9,
     "metadata": {},
     "output_type": "execute_result"
    }
   ],
   "source": [
    "#차분된 데이터에 대해 adf 테스트\n",
    "adf_test_oil_diff=adfuller(oil_diff)\n",
    "adf_test_gold_diff=adfuller(gold_diff)\n",
    "adf_test_nasdaq_diff=adfuller(nasdaq_diff)\n",
    "\n",
    "adf_test_oil_diff, adf_test_gold_diff, adf_test_nasdaq_diff"
   ]
  },
  {
   "cell_type": "markdown",
   "id": "c8f5b843",
   "metadata": {},
   "source": [
    "통계량, p값, 지연값 수, 실제 데이터 포인트 수, 각 유의수준에서의 정상성 여부"
   ]
  },
  {
   "cell_type": "markdown",
   "id": "292eb9e9",
   "metadata": {},
   "source": [
    "모든 유의수준에서 정상성을 가짐"
   ]
  },
  {
   "cell_type": "markdown",
   "id": "37d339bd",
   "metadata": {},
   "source": [
    "##### ACF ,PACF 플롯"
   ]
  },
  {
   "cell_type": "code",
   "execution_count": 10,
   "id": "f5939b5c",
   "metadata": {
    "scrolled": false
   },
   "outputs": [
    {
     "name": "stderr",
     "output_type": "stream",
     "text": [
      "C:\\Users\\82106\\anaconda3\\lib\\site-packages\\statsmodels\\graphics\\tsaplots.py:348: FutureWarning: The default method 'yw' can produce PACF values outside of the [-1,1] interval. After 0.13, the default will change tounadjusted Yule-Walker ('ywm'). You can use this method now by setting method='ywm'.\n",
      "  warnings.warn(\n"
     ]
    },
    {
     "data": {
      "image/png": "[encoded data removed]",
      "text/plain": [
       "<Figure size 864x576 with 2 Axes>"
      ]
     },
     "metadata": {
      "needs_background": "light"
     },
     "output_type": "display_data"
    }
   ],
   "source": [
    "import matplotlib.pyplot as plt\n",
    "from statsmodels.graphics.tsaplots import plot_acf, plot_pacf\n",
    "\n",
    "# 금가격 대한 acf 와 pacf 플롯\n",
    "fig,ax = plt.subplots(2,1,figsize=(12,8))\n",
    "\n",
    "plot_acf(gold_diff,ax=ax[0])\n",
    "plot_pacf(gold_diff,ax=ax[1])\n",
    "\n",
    "plt.tight_layout()\n",
    "plt.show()"
   ]
  },
  {
   "cell_type": "code",
   "execution_count": 11,
   "id": "c428db74",
   "metadata": {},
   "outputs": [
    {
     "name": "stderr",
     "output_type": "stream",
     "text": [
      "C:\\Users\\82106\\anaconda3\\lib\\site-packages\\statsmodels\\graphics\\tsaplots.py:348: FutureWarning: The default method 'yw' can produce PACF values outside of the [-1,1] interval. After 0.13, the default will change tounadjusted Yule-Walker ('ywm'). You can use this method now by setting method='ywm'.\n",
      "  warnings.warn(\n"
     ]
    },
    {
     "data": {
      "image/png": "[encoded data removed]",
      "text/plain": [
       "<Figure size 864x576 with 2 Axes>"
      ]
     },
     "metadata": {
      "needs_background": "light"
     },
     "output_type": "display_data"
    }
   ],
   "source": [
    "# NASDAQ 데이터에 대한 ACF와 PACF 플롯\n",
    "fig, ax = plt.subplots(2, 1, figsize=(12, 8))\n",
    "\n",
    "plot_acf(nasdaq_diff, ax=ax[0])\n",
    "plot_pacf(nasdaq_diff, ax=ax[1])\n",
    "\n",
    "plt.tight_layout()\n",
    "plt.show()"
   ]
  },
  {
   "cell_type": "code",
   "execution_count": 12,
   "id": "78519526",
   "metadata": {},
   "outputs": [],
   "source": [
    "from statsmodels.tsa.arima.model import ARIMA"
   ]
  },
  {
   "cell_type": "code",
   "execution_count": 13,
   "id": "85c45f92",
   "metadata": {},
   "outputs": [
    {
     "name": "stderr",
     "output_type": "stream",
     "text": [
      "C:\\Users\\82106\\anaconda3\\lib\\site-packages\\statsmodels\\tsa\\base\\tsa_model.py:471: ValueWarning: A date index has been provided, but it has no associated frequency information and so will be ignored when e.g. forecasting.\n",
      "  self._init_dates(dates, freq)\n",
      "C:\\Users\\82106\\anaconda3\\lib\\site-packages\\statsmodels\\tsa\\base\\tsa_model.py:471: ValueWarning: A date index has been provided, but it has no associated frequency information and so will be ignored when e.g. forecasting.\n",
      "  self._init_dates(dates, freq)\n",
      "C:\\Users\\82106\\anaconda3\\lib\\site-packages\\statsmodels\\tsa\\base\\tsa_model.py:471: ValueWarning: A date index has been provided, but it has no associated frequency information and so will be ignored when e.g. forecasting.\n",
      "  self._init_dates(dates, freq)\n"
     ]
    }
   ],
   "source": [
    "#오일가격에 대해 ARIMA 모델 생성, 학습\n",
    "#1개의 시차, 1번 차분 , 이전 1개의 시차의오차 고려\n",
    "model_oil=ARIMA(oil_data['Price'],order=(1,1,1))\n",
    "model_oil_fit=model_oil.fit()"
   ]
  },
  {
   "cell_type": "code",
   "execution_count": 14,
   "id": "6c6276ea",
   "metadata": {},
   "outputs": [
    {
     "data": {
      "text/html": [
       "<table class=\"simpletable\">\n",
       "<caption>SARIMAX Results</caption>\n",
       "<tr>\n",
       "  <th>Dep. Variable:</th>         <td>Price</td>      <th>  No. Observations:  </th>    <td>5811</td>   \n",
       "</tr>\n",
       "<tr>\n",
       "  <th>Model:</th>            <td>ARIMA(1, 1, 1)</td>  <th>  Log Likelihood     </th> <td>-10486.311</td>\n",
       "</tr>\n",
       "<tr>\n",
       "  <th>Date:</th>            <td>Mon, 13 Nov 2023</td> <th>  AIC                </th>  <td>20978.622</td>\n",
       "</tr>\n",
       "<tr>\n",
       "  <th>Time:</th>                <td>02:29:50</td>     <th>  BIC                </th>  <td>20998.624</td>\n",
       "</tr>\n",
       "<tr>\n",
       "  <th>Sample:</th>                  <td>0</td>        <th>  HQIC               </th>  <td>20985.580</td>\n",
       "</tr>\n",
       "<tr>\n",
       "  <th></th>                      <td> - 5811</td>     <th>                     </th>      <td> </td>    \n",
       "</tr>\n",
       "<tr>\n",
       "  <th>Covariance Type:</th>        <td>opg</td>       <th>                     </th>      <td> </td>    \n",
       "</tr>\n",
       "</table>\n",
       "<table class=\"simpletable\">\n",
       "<tr>\n",
       "     <td></td>       <th>coef</th>     <th>std err</th>      <th>z</th>      <th>P>|z|</th>  <th>[0.025</th>    <th>0.975]</th>  \n",
       "</tr>\n",
       "<tr>\n",
       "  <th>ar.L1</th>  <td>   -0.4174</td> <td>    0.218</td> <td>   -1.915</td> <td> 0.055</td> <td>   -0.845</td> <td>    0.010</td>\n",
       "</tr>\n",
       "<tr>\n",
       "  <th>ma.L1</th>  <td>    0.4446</td> <td>    0.215</td> <td>    2.071</td> <td> 0.038</td> <td>    0.024</td> <td>    0.865</td>\n",
       "</tr>\n",
       "<tr>\n",
       "  <th>sigma2</th> <td>    2.1638</td> <td>    0.018</td> <td>  121.807</td> <td> 0.000</td> <td>    2.129</td> <td>    2.199</td>\n",
       "</tr>\n",
       "</table>\n",
       "<table class=\"simpletable\">\n",
       "<tr>\n",
       "  <th>Ljung-Box (L1) (Q):</th>     <td>0.04</td> <th>  Jarque-Bera (JB):  </th> <td>17925.97</td>\n",
       "</tr>\n",
       "<tr>\n",
       "  <th>Prob(Q):</th>                <td>0.84</td> <th>  Prob(JB):          </th>   <td>0.00</td>  \n",
       "</tr>\n",
       "<tr>\n",
       "  <th>Heteroskedasticity (H):</th> <td>3.48</td> <th>  Skew:              </th>   <td>-0.56</td> \n",
       "</tr>\n",
       "<tr>\n",
       "  <th>Prob(H) (two-sided):</th>    <td>0.00</td> <th>  Kurtosis:          </th>   <td>11.53</td> \n",
       "</tr>\n",
       "</table><br/><br/>Warnings:<br/>[1] Covariance matrix calculated using the outer product of gradients (complex-step)."
      ],
      "text/plain": [
       "<class 'statsmodels.iolib.summary.Summary'>\n",
       "\"\"\"\n",
       "                               SARIMAX Results                                \n",
       "==============================================================================\n",
       "Dep. Variable:                  Price   No. Observations:                 5811\n",
       "Model:                 ARIMA(1, 1, 1)   Log Likelihood              -10486.311\n",
       "Date:                Mon, 13 Nov 2023   AIC                          20978.622\n",
       "Time:                        02:29:50   BIC                          20998.624\n",
       "Sample:                             0   HQIC                         20985.580\n",
       "                               - 5811                                         \n",
       "Covariance Type:                  opg                                         \n",
       "==============================================================================\n",
       "                 coef    std err          z      P>|z|      [0.025      0.975]\n",
       "------------------------------------------------------------------------------\n",
       "ar.L1         -0.4174      0.218     -1.915      0.055      -0.845       0.010\n",
       "ma.L1          0.4446      0.215      2.071      0.038       0.024       0.865\n",
       "sigma2         2.1638      0.018    121.807      0.000       2.129       2.199\n",
       "===================================================================================\n",
       "Ljung-Box (L1) (Q):                   0.04   Jarque-Bera (JB):             17925.97\n",
       "Prob(Q):                              0.84   Prob(JB):                         0.00\n",
       "Heteroskedasticity (H):               3.48   Skew:                            -0.56\n",
       "Prob(H) (two-sided):                  0.00   Kurtosis:                        11.53\n",
       "===================================================================================\n",
       "\n",
       "Warnings:\n",
       "[1] Covariance matrix calculated using the outer product of gradients (complex-step).\n",
       "\"\"\""
      ]
     },
     "execution_count": 14,
     "metadata": {},
     "output_type": "execute_result"
    }
   ],
   "source": [
    "model_oil_fit.summary()"
   ]
  },
  {
   "cell_type": "code",
   "execution_count": 15,
   "id": "ef155472",
   "metadata": {},
   "outputs": [
    {
     "name": "stderr",
     "output_type": "stream",
     "text": [
      "C:\\Users\\82106\\anaconda3\\lib\\site-packages\\statsmodels\\tsa\\base\\tsa_model.py:471: ValueWarning: A date index has been provided, but it has no associated frequency information and so will be ignored when e.g. forecasting.\n",
      "  self._init_dates(dates, freq)\n",
      "C:\\Users\\82106\\anaconda3\\lib\\site-packages\\statsmodels\\tsa\\base\\tsa_model.py:471: ValueWarning: A date index has been provided, but it has no associated frequency information and so will be ignored when e.g. forecasting.\n",
      "  self._init_dates(dates, freq)\n",
      "C:\\Users\\82106\\anaconda3\\lib\\site-packages\\statsmodels\\tsa\\base\\tsa_model.py:471: ValueWarning: A date index has been provided, but it has no associated frequency information and so will be ignored when e.g. forecasting.\n",
      "  self._init_dates(dates, freq)\n"
     ]
    },
    {
     "data": {
      "text/html": [
       "<table class=\"simpletable\">\n",
       "<caption>SARIMAX Results</caption>\n",
       "<tr>\n",
       "  <th>Dep. Variable:</th>         <td>Close</td>      <th>  No. Observations:  </th>    <td>5703</td>   \n",
       "</tr>\n",
       "<tr>\n",
       "  <th>Model:</th>            <td>ARIMA(1, 1, 1)</td>  <th>  Log Likelihood     </th> <td>-22605.613</td>\n",
       "</tr>\n",
       "<tr>\n",
       "  <th>Date:</th>            <td>Mon, 13 Nov 2023</td> <th>  AIC                </th>  <td>45217.225</td>\n",
       "</tr>\n",
       "<tr>\n",
       "  <th>Time:</th>                <td>02:29:51</td>     <th>  BIC                </th>  <td>45237.171</td>\n",
       "</tr>\n",
       "<tr>\n",
       "  <th>Sample:</th>                  <td>0</td>        <th>  HQIC               </th>  <td>45224.169</td>\n",
       "</tr>\n",
       "<tr>\n",
       "  <th></th>                      <td> - 5703</td>     <th>                     </th>      <td> </td>    \n",
       "</tr>\n",
       "<tr>\n",
       "  <th>Covariance Type:</th>        <td>opg</td>       <th>                     </th>      <td> </td>    \n",
       "</tr>\n",
       "</table>\n",
       "<table class=\"simpletable\">\n",
       "<tr>\n",
       "     <td></td>       <th>coef</th>     <th>std err</th>      <th>z</th>      <th>P>|z|</th>  <th>[0.025</th>    <th>0.975]</th>  \n",
       "</tr>\n",
       "<tr>\n",
       "  <th>ar.L1</th>  <td>    0.9317</td> <td>    0.029</td> <td>   32.457</td> <td> 0.000</td> <td>    0.875</td> <td>    0.988</td>\n",
       "</tr>\n",
       "<tr>\n",
       "  <th>ma.L1</th>  <td>   -0.9440</td> <td>    0.026</td> <td>  -36.033</td> <td> 0.000</td> <td>   -0.995</td> <td>   -0.893</td>\n",
       "</tr>\n",
       "<tr>\n",
       "  <th>sigma2</th> <td>  162.5731</td> <td>    1.243</td> <td>  130.794</td> <td> 0.000</td> <td>  160.137</td> <td>  165.009</td>\n",
       "</tr>\n",
       "</table>\n",
       "<table class=\"simpletable\">\n",
       "<tr>\n",
       "  <th>Ljung-Box (L1) (Q):</th>     <td>0.01</td> <th>  Jarque-Bera (JB):  </th> <td>26595.94</td>\n",
       "</tr>\n",
       "<tr>\n",
       "  <th>Prob(Q):</th>                <td>0.93</td> <th>  Prob(JB):          </th>   <td>0.00</td>  \n",
       "</tr>\n",
       "<tr>\n",
       "  <th>Heteroskedasticity (H):</th> <td>8.78</td> <th>  Skew:              </th>   <td>-0.77</td> \n",
       "</tr>\n",
       "<tr>\n",
       "  <th>Prob(H) (two-sided):</th>    <td>0.00</td> <th>  Kurtosis:          </th>   <td>13.47</td> \n",
       "</tr>\n",
       "</table><br/><br/>Warnings:<br/>[1] Covariance matrix calculated using the outer product of gradients (complex-step)."
      ],
      "text/plain": [
       "<class 'statsmodels.iolib.summary.Summary'>\n",
       "\"\"\"\n",
       "                               SARIMAX Results                                \n",
       "==============================================================================\n",
       "Dep. Variable:                  Close   No. Observations:                 5703\n",
       "Model:                 ARIMA(1, 1, 1)   Log Likelihood              -22605.613\n",
       "Date:                Mon, 13 Nov 2023   AIC                          45217.225\n",
       "Time:                        02:29:51   BIC                          45237.171\n",
       "Sample:                             0   HQIC                         45224.169\n",
       "                               - 5703                                         \n",
       "Covariance Type:                  opg                                         \n",
       "==============================================================================\n",
       "                 coef    std err          z      P>|z|      [0.025      0.975]\n",
       "------------------------------------------------------------------------------\n",
       "ar.L1          0.9317      0.029     32.457      0.000       0.875       0.988\n",
       "ma.L1         -0.9440      0.026    -36.033      0.000      -0.995      -0.893\n",
       "sigma2       162.5731      1.243    130.794      0.000     160.137     165.009\n",
       "===================================================================================\n",
       "Ljung-Box (L1) (Q):                   0.01   Jarque-Bera (JB):             26595.94\n",
       "Prob(Q):                              0.93   Prob(JB):                         0.00\n",
       "Heteroskedasticity (H):               8.78   Skew:                            -0.77\n",
       "Prob(H) (two-sided):                  0.00   Kurtosis:                        13.47\n",
       "===================================================================================\n",
       "\n",
       "Warnings:\n",
       "[1] Covariance matrix calculated using the outer product of gradients (complex-step).\n",
       "\"\"\""
      ]
     },
     "execution_count": 15,
     "metadata": {},
     "output_type": "execute_result"
    }
   ],
   "source": [
    "# Gold Prices 데이터에 대한 ARIMA 모델 구축 및 적합\n",
    "# 매개변수는 추정된 값을 기반으로 선택\n",
    "model_gold = ARIMA(gold_data['Close'], order=(1, 1, 1))\n",
    "model_gold_fit = model_gold.fit()\n",
    "\n",
    "# 모델 요약 출력\n",
    "model_gold_fit.summary()"
   ]
  },
  {
   "cell_type": "markdown",
   "id": "918ffd55",
   "metadata": {},
   "source": [
    "통계적으로 유의미, 잔차가 정규분포 X"
   ]
  },
  {
   "cell_type": "code",
   "execution_count": 16,
   "id": "221a828b",
   "metadata": {},
   "outputs": [
    {
     "name": "stderr",
     "output_type": "stream",
     "text": [
      "C:\\Users\\82106\\anaconda3\\lib\\site-packages\\statsmodels\\tsa\\base\\tsa_model.py:471: ValueWarning: A date index has been provided, but it has no associated frequency information and so will be ignored when e.g. forecasting.\n",
      "  self._init_dates(dates, freq)\n",
      "C:\\Users\\82106\\anaconda3\\lib\\site-packages\\statsmodels\\tsa\\base\\tsa_model.py:471: ValueWarning: A date index has been provided, but it has no associated frequency information and so will be ignored when e.g. forecasting.\n",
      "  self._init_dates(dates, freq)\n",
      "C:\\Users\\82106\\anaconda3\\lib\\site-packages\\statsmodels\\tsa\\base\\tsa_model.py:471: ValueWarning: A date index has been provided, but it has no associated frequency information and so will be ignored when e.g. forecasting.\n",
      "  self._init_dates(dates, freq)\n"
     ]
    },
    {
     "data": {
      "text/html": [
       "<table class=\"simpletable\">\n",
       "<caption>SARIMAX Results</caption>\n",
       "<tr>\n",
       "  <th>Dep. Variable:</th>         <td>Close</td>      <th>  No. Observations:  </th>    <td>4981</td>   \n",
       "</tr>\n",
       "<tr>\n",
       "  <th>Model:</th>            <td>ARIMA(1, 1, 1)</td>  <th>  Log Likelihood     </th> <td>-11283.922</td>\n",
       "</tr>\n",
       "<tr>\n",
       "  <th>Date:</th>            <td>Mon, 13 Nov 2023</td> <th>  AIC                </th>  <td>22573.845</td>\n",
       "</tr>\n",
       "<tr>\n",
       "  <th>Time:</th>                <td>02:29:52</td>     <th>  BIC                </th>  <td>22593.385</td>\n",
       "</tr>\n",
       "<tr>\n",
       "  <th>Sample:</th>                  <td>0</td>        <th>  HQIC               </th>  <td>22580.695</td>\n",
       "</tr>\n",
       "<tr>\n",
       "  <th></th>                      <td> - 4981</td>     <th>                     </th>      <td> </td>    \n",
       "</tr>\n",
       "<tr>\n",
       "  <th>Covariance Type:</th>        <td>opg</td>       <th>                     </th>      <td> </td>    \n",
       "</tr>\n",
       "</table>\n",
       "<table class=\"simpletable\">\n",
       "<tr>\n",
       "     <td></td>       <th>coef</th>     <th>std err</th>      <th>z</th>      <th>P>|z|</th>  <th>[0.025</th>    <th>0.975]</th>  \n",
       "</tr>\n",
       "<tr>\n",
       "  <th>ar.L1</th>  <td>   -0.2941</td> <td>    0.071</td> <td>   -4.160</td> <td> 0.000</td> <td>   -0.433</td> <td>   -0.156</td>\n",
       "</tr>\n",
       "<tr>\n",
       "  <th>ma.L1</th>  <td>    0.2208</td> <td>    0.073</td> <td>    3.035</td> <td> 0.002</td> <td>    0.078</td> <td>    0.363</td>\n",
       "</tr>\n",
       "<tr>\n",
       "  <th>sigma2</th> <td>    5.4407</td> <td>    0.041</td> <td>  132.585</td> <td> 0.000</td> <td>    5.360</td> <td>    5.521</td>\n",
       "</tr>\n",
       "</table>\n",
       "<table class=\"simpletable\">\n",
       "<tr>\n",
       "  <th>Ljung-Box (L1) (Q):</th>     <td>0.02</td>  <th>  Jarque-Bera (JB):  </th> <td>33727.42</td>\n",
       "</tr>\n",
       "<tr>\n",
       "  <th>Prob(Q):</th>                <td>0.90</td>  <th>  Prob(JB):          </th>   <td>0.00</td>  \n",
       "</tr>\n",
       "<tr>\n",
       "  <th>Heteroskedasticity (H):</th> <td>48.19</td> <th>  Skew:              </th>   <td>-0.57</td> \n",
       "</tr>\n",
       "<tr>\n",
       "  <th>Prob(H) (two-sided):</th>    <td>0.00</td>  <th>  Kurtosis:          </th>   <td>15.70</td> \n",
       "</tr>\n",
       "</table><br/><br/>Warnings:<br/>[1] Covariance matrix calculated using the outer product of gradients (complex-step)."
      ],
      "text/plain": [
       "<class 'statsmodels.iolib.summary.Summary'>\n",
       "\"\"\"\n",
       "                               SARIMAX Results                                \n",
       "==============================================================================\n",
       "Dep. Variable:                  Close   No. Observations:                 4981\n",
       "Model:                 ARIMA(1, 1, 1)   Log Likelihood              -11283.922\n",
       "Date:                Mon, 13 Nov 2023   AIC                          22573.845\n",
       "Time:                        02:29:52   BIC                          22593.385\n",
       "Sample:                             0   HQIC                         22580.695\n",
       "                               - 4981                                         \n",
       "Covariance Type:                  opg                                         \n",
       "==============================================================================\n",
       "                 coef    std err          z      P>|z|      [0.025      0.975]\n",
       "------------------------------------------------------------------------------\n",
       "ar.L1         -0.2941      0.071     -4.160      0.000      -0.433      -0.156\n",
       "ma.L1          0.2208      0.073      3.035      0.002       0.078       0.363\n",
       "sigma2         5.4407      0.041    132.585      0.000       5.360       5.521\n",
       "===================================================================================\n",
       "Ljung-Box (L1) (Q):                   0.02   Jarque-Bera (JB):             33727.42\n",
       "Prob(Q):                              0.90   Prob(JB):                         0.00\n",
       "Heteroskedasticity (H):              48.19   Skew:                            -0.57\n",
       "Prob(H) (two-sided):                  0.00   Kurtosis:                        15.70\n",
       "===================================================================================\n",
       "\n",
       "Warnings:\n",
       "[1] Covariance matrix calculated using the outer product of gradients (complex-step).\n",
       "\"\"\""
      ]
     },
     "execution_count": 16,
     "metadata": {},
     "output_type": "execute_result"
    }
   ],
   "source": [
    "# NASDAQ 데이터에 대한 ARIMA 모델 구축 및 적합\n",
    "# 매개변수는 추정된 값을 기반으로 선택 (예: p=1, d=1, q=1)\n",
    "model_nasdaq = ARIMA(nasdaq_data['Close'], order=(1, 1, 1))\n",
    "model_nasdaq_fit = model_nasdaq.fit()\n",
    "\n",
    "# 모델 요약 출력\n",
    "model_nasdaq_fit.summary()"
   ]
  },
  {
   "cell_type": "markdown",
   "id": "c8859cae",
   "metadata": {},
   "source": [
    "통계적으로 유의미, 잔차가 정규분포 X"
   ]
  },
  {
   "cell_type": "code",
   "execution_count": 17,
   "id": "5ae2f522",
   "metadata": {},
   "outputs": [
    {
     "name": "stderr",
     "output_type": "stream",
     "text": [
      "C:\\Users\\82106\\anaconda3\\lib\\site-packages\\statsmodels\\tsa\\base\\tsa_model.py:834: ValueWarning: No supported index is available. Prediction results will be given with an integer index beginning at `start`.\n",
      "  return get_prediction_index(\n",
      "C:\\Users\\82106\\anaconda3\\lib\\site-packages\\statsmodels\\tsa\\base\\tsa_model.py:834: ValueWarning: No supported index is available. Prediction results will be given with an integer index beginning at `start`.\n",
      "  return get_prediction_index(\n",
      "C:\\Users\\82106\\anaconda3\\lib\\site-packages\\statsmodels\\tsa\\base\\tsa_model.py:834: ValueWarning: No supported index is available. Prediction results will be given with an integer index beginning at `start`.\n",
      "  return get_prediction_index(\n"
     ]
    },
    {
     "data": {
      "text/plain": [
       "(Price       mean   mean_se  mean_ci_lower  mean_ci_upper\n",
       " 5811   93.501890  1.470995      90.618792      96.384987\n",
       " 5812   93.538666  2.108777      89.405540      97.671792\n",
       " 5813   93.523316  2.584545      88.457701      98.588931\n",
       " 5814   93.529723  2.988927      87.671534      99.387912\n",
       " 5815   93.527049  3.343467      86.973974     100.080123,\n",
       " Close        mean   mean_se  mean_ci_lower  mean_ci_upper\n",
       " 4981   369.038309  2.332523     364.466648     373.609970\n",
       " 4982   369.147611  3.180066     362.914796     375.380426\n",
       " 4983   369.115469  3.873615     361.523322     376.707616\n",
       " 4984   369.124921  4.453288     360.396636     377.853206\n",
       " 4985   369.122142  4.967674     359.385679     378.858604,\n",
       " Close        mean   mean_se  mean_ci_lower  mean_ci_upper\n",
       " 4981   369.038309  2.332523     364.466648     373.609970\n",
       " 4982   369.147611  3.180066     362.914796     375.380426\n",
       " 4983   369.115469  3.873615     361.523322     376.707616\n",
       " 4984   369.124921  4.453288     360.396636     377.853206\n",
       " 4985   369.122142  4.967674     359.385679     378.858604)"
      ]
     },
     "execution_count": 17,
     "metadata": {},
     "output_type": "execute_result"
    }
   ],
   "source": [
    "#각 자산에 대한 미래 5일 가격 예측\n",
    "#변동성 파악 위해\n",
    "#원유\n",
    "oil_forecast=model_oil_fit.get_forecast(steps=5)\n",
    "oil_forecast_summary=oil_forecast.summary_frame()\n",
    "\n",
    "#금\n",
    "gold_forecast=model_nasdaq_fit.get_forecast(steps=5)\n",
    "gold_forecast_summary=gold_forecast.summary_frame()\n",
    "\n",
    "#나스닥\n",
    "nasdaq_forecast=model_nasdaq_fit.get_forecast(steps=5)\n",
    "nasdaq_forecast_summary=nasdaq_forecast.summary_frame()\n",
    "\n",
    "(oil_forecast_summary, gold_forecast_summary, nasdaq_forecast_summary)"
   ]
  },
  {
   "cell_type": "code",
   "execution_count": 18,
   "id": "d3b171bf",
   "metadata": {},
   "outputs": [
    {
     "data": {
      "text/plain": [
       "(2.499342127620856, 3.761433354794069, 3.761433354794069)"
      ]
     },
     "execution_count": 18,
     "metadata": {},
     "output_type": "execute_result"
    }
   ],
   "source": [
    "#각 자산의 예측 가격에 대한 표준편차 계산\n",
    "#미래 가격 변동성을 수치적으로 평가\n",
    "oil_volatility=oil_forecast_summary['mean_se'].mean()\n",
    "gold_volatility=gold_forecast_summary['mean_se'].mean()\n",
    "nasdaq_volatility=nasdaq_forecast_summary['mean_se'].mean()\n",
    "\n",
    "oil_volatility, gold_volatility, nasdaq_volatility"
   ]
  },
  {
   "cell_type": "code",
   "execution_count": 19,
   "id": "ed0fd848",
   "metadata": {},
   "outputs": [],
   "source": [
    "#변동성 역수로 가중치 계산 -> 변동성이 낮은자산에 투자비중\n",
    "weights_min_volatility={\n",
    "    'oil':1/oil_volatility,\n",
    "    'gold':1/gold_volatility,\n",
    "    'nasdaq':1/nasdaq_volatility\n",
    "}"
   ]
  },
  {
   "cell_type": "code",
   "execution_count": 20,
   "id": "4951eebd",
   "metadata": {},
   "outputs": [],
   "source": [
    "#총합으로 나누어 가중치 정규화 \n",
    "total_weight=sum(weights_min_volatility.values())\n",
    "normalized_weights_min_volatility={k:v/total_weight for k,v in weights_min_volatility.items()}"
   ]
  },
  {
   "cell_type": "code",
   "execution_count": 21,
   "id": "60b6b1a9",
   "metadata": {},
   "outputs": [
    {
     "data": {
      "text/plain": [
       "{'oil': 0.4293816044758223,\n",
       " 'gold': 0.2853091977620889,\n",
       " 'nasdaq': 0.2853091977620889}"
      ]
     },
     "execution_count": 21,
     "metadata": {},
     "output_type": "execute_result"
    }
   ],
   "source": [
    "normalized_weights_min_volatility"
   ]
  },
  {
   "cell_type": "code",
   "execution_count": 22,
   "id": "9728eb11",
   "metadata": {},
   "outputs": [],
   "source": [
    "# 각 자산의 수익률 계산\n",
    "# 수익률 = (종가 / 시작가) - 1\n",
    "\n",
    "oil_return = (oil_data['Price'].iloc[-1] / oil_data['Price'].iloc[0]) - 1\n",
    "gold_return = (gold_data['Close'].iloc[-1] / gold_data['Close'].iloc[0]) - 1\n",
    "nasdaq_return = (nasdaq_data['Close'].iloc[-1] / nasdaq_data['Close'].iloc[0]) - 1"
   ]
  },
  {
   "cell_type": "code",
   "execution_count": 23,
   "id": "7de6f6ad",
   "metadata": {},
   "outputs": [
    {
     "data": {
      "text/plain": [
       "5.381628284489155"
      ]
     },
     "execution_count": 23,
     "metadata": {},
     "output_type": "execute_result"
    }
   ],
   "source": [
    "# 변동성 최소화 포트폴리오의 가중치\n",
    "weights_min_volatility = {\n",
    "    \"oil\": 0.5608436764183737,\n",
    "    \"gold\": 0.06649513351593095,\n",
    "    \"nasdaq\": 0.37266119006569537\n",
    "}\n",
    "\n",
    "# 포트폴리오의 예상 수익률 계산\n",
    "portfolio_expected_return = (\n",
    "    weights_min_volatility[\"oil\"] * oil_return +\n",
    "    weights_min_volatility[\"gold\"] * gold_return +\n",
    "    weights_min_volatility[\"nasdaq\"] * nasdaq_return\n",
    ")\n",
    "\n",
    "portfolio_expected_return"
   ]
  },
  {
   "cell_type": "markdown",
   "id": "d3d05bb5",
   "metadata": {},
   "source": [
    "2000 ~ 2023 변동성 최소 포트폴리오 예상 수익률 538%"
   ]
  },
  {
   "cell_type": "markdown",
   "id": "7fddeb7d",
   "metadata": {},
   "source": [
    "이후 1년동안의 예상수익률 계산"
   ]
  },
  {
   "cell_type": "code",
   "execution_count": 24,
   "id": "86c200c7",
   "metadata": {},
   "outputs": [],
   "source": [
    "#각 자산의 현재 가격 정의\n",
    "current_oil_price=oil_data['Price'].iloc[-1]\n",
    "current_gold_price = gold_data['Close'].iloc[-1]\n",
    "current_nasdaq_price = nasdaq_data['Close'].iloc[-1]"
   ]
  },
  {
   "cell_type": "code",
   "execution_count": 27,
   "id": "b639673c",
   "metadata": {},
   "outputs": [
    {
     "name": "stderr",
     "output_type": "stream",
     "text": [
      "C:\\Users\\82106\\anaconda3\\lib\\site-packages\\statsmodels\\tsa\\base\\tsa_model.py:834: ValueWarning: No supported index is available. Prediction results will be given with an integer index beginning at `start`.\n",
      "  return get_prediction_index(\n",
      "C:\\Users\\82106\\anaconda3\\lib\\site-packages\\statsmodels\\tsa\\base\\tsa_model.py:834: ValueWarning: No supported index is available. Prediction results will be given with an integer index beginning at `start`.\n",
      "  return get_prediction_index(\n",
      "C:\\Users\\82106\\anaconda3\\lib\\site-packages\\statsmodels\\tsa\\base\\tsa_model.py:834: ValueWarning: No supported index is available. Prediction results will be given with an integer index beginning at `start`.\n",
      "  return get_prediction_index(\n"
     ]
    }
   ],
   "source": [
    "#1년 예상 수익률 예측모델 학습\n",
    "oil_forecast_1year = model_oil_fit.get_forecast(steps=365)\n",
    "gold_forecast_1year = model_gold_fit.get_forecast(steps=365)\n",
    "nasdaq_forecast_1year = model_nasdaq_fit.get_forecast(steps=365)"
   ]
  },
  {
   "cell_type": "code",
   "execution_count": 28,
   "id": "d49d920f",
   "metadata": {},
   "outputs": [
    {
     "data": {
      "text/plain": [
       "(-0.000664213769647537, 0.004547388729370994, -0.0007775395167756161)"
      ]
     },
     "execution_count": 28,
     "metadata": {},
     "output_type": "execute_result"
    }
   ],
   "source": [
    "# 각 자산의 1년 예상 수익률 계산\n",
    "oil_return_1year = (oil_forecast_1year.predicted_mean.iloc[-1] / current_oil_price) - 1\n",
    "gold_return_1year = (gold_forecast_1year.predicted_mean.iloc[-1] / current_gold_price) - 1\n",
    "nasdaq_return_1year = (nasdaq_forecast_1year.predicted_mean.iloc[-1] / current_nasdaq_price) - 1\n",
    "\n",
    "oil_return_1year, gold_return_1year, nasdaq_return_1year\n"
   ]
  },
  {
   "cell_type": "code",
   "execution_count": 29,
   "id": "7d7944fe",
   "metadata": {},
   "outputs": [],
   "source": [
    "# 각 자산의 1년 예상 수익률 계산\n",
    "oil_return_1year = (oil_forecast_1year.predicted_mean.iloc[-1] / current_oil_price) - 1\n",
    "gold_return_1year = (gold_forecast_1year.predicted_mean.iloc[-1] / current_gold_price) - 1\n",
    "nasdaq_return_1year = (nasdaq_forecast_1year.predicted_mean.iloc[-1] / current_nasdaq_price) - 1\n"
   ]
  },
  {
   "cell_type": "code",
   "execution_count": 30,
   "id": "89172378",
   "metadata": {},
   "outputs": [],
   "source": [
    "# 변동성 최소화 포트폴리오의 1년 예상 수익률 계산\n",
    "portfolio_expected_return_1year = (\n",
    "    weights_min_volatility[\"oil\"] * oil_return_1year +\n",
    "    weights_min_volatility[\"gold\"] * gold_return_1year +\n",
    "    weights_min_volatility[\"nasdaq\"] * nasdaq_return_1year\n",
    ")\n"
   ]
  },
  {
   "cell_type": "code",
   "execution_count": 31,
   "id": "d1303be3",
   "metadata": {},
   "outputs": [
    {
     "data": {
      "text/plain": [
       "-0.0003598996734331744"
      ]
     },
     "execution_count": 31,
     "metadata": {},
     "output_type": "execute_result"
    }
   ],
   "source": [
    "portfolio_expected_return_1year"
   ]
  },
  {
   "cell_type": "markdown",
   "id": "ab662d96",
   "metadata": {},
   "source": [
    "변동성 최소 포트폴리오 1년 예상 수익률 -0.035%"
   ]
  },
  {
   "cell_type": "code",
   "execution_count": 32,
   "id": "6475efab",
   "metadata": {},
   "outputs": [
    {
     "data": {
      "text/plain": [
       "{'oil': 0.0, 'gold': 1.0, 'nasdaq': 0.0}"
      ]
     },
     "execution_count": 32,
     "metadata": {},
     "output_type": "execute_result"
    }
   ],
   "source": [
    "# 1년 수익률이 가장 높은 포트폴리오 구성\n",
    "highest_return = max(oil_return_1year, gold_return_1year, nasdaq_return_1year)\n",
    "if highest_return == oil_return_1year:\n",
    "    weights_high_return = {\"oil\": 1.0, \"gold\": 0.0, \"nasdaq\": 0.0}\n",
    "elif highest_return == gold_return_1year:\n",
    "    weights_high_return = {\"oil\": 0.0, \"gold\": 1.0, \"nasdaq\": 0.0}\n",
    "else:\n",
    "    weights_high_return = {\"oil\": 0.0, \"gold\": 0.0, \"nasdaq\": 1.0}\n",
    "weights_high_return"
   ]
  },
  {
   "cell_type": "markdown",
   "id": "d8dc37fc",
   "metadata": {},
   "source": [
    "1년 수익률 가장 높은 포트폴리오"
   ]
  },
  {
   "cell_type": "code",
   "execution_count": null,
   "id": "07f3da86",
   "metadata": {},
   "outputs": [],
   "source": []
  }
 ],
 "metadata": {
  "kernelspec": {
   "display_name": "Python 3 (ipykernel)",
   "language": "python",
   "name": "python3"
  },
  "language_info": {
   "codemirror_mode": {
    "name": "ipython",
    "version": 3
   },
   "file_extension": ".py",
   "mimetype": "text/x-python",
   "name": "python",
   "nbconvert_exporter": "python",
   "pygments_lexer": "ipython3",
   "version": "3.9.12"
  }
 },
 "nbformat": 4,
 "nbformat_minor": 5
}
